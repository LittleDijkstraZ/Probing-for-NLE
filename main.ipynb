{
 "cells": [
  {
   "attachments": {},
   "cell_type": "markdown",
   "metadata": {},
   "source": [
    "Import Dependencies"
   ]
  },
  {
   "cell_type": "code",
   "execution_count": 3,
   "metadata": {},
   "outputs": [],
   "source": [
    "import pandas as pd\n",
    "import numpy as np"
   ]
  },
  {
   "attachments": {},
   "cell_type": "markdown",
   "metadata": {},
   "source": [
    "## Load Dataset"
   ]
  },
  {
   "cell_type": "code",
   "execution_count": 8,
   "metadata": {},
   "outputs": [
    {
     "data": {
      "text/html": [
       "<div>\n",
       "<style scoped>\n",
       "    .dataframe tbody tr th:only-of-type {\n",
       "        vertical-align: middle;\n",
       "    }\n",
       "\n",
       "    .dataframe tbody tr th {\n",
       "        vertical-align: top;\n",
       "    }\n",
       "\n",
       "    .dataframe thead th {\n",
       "        text-align: right;\n",
       "    }\n",
       "</style>\n",
       "<table border=\"1\" class=\"dataframe\">\n",
       "  <thead>\n",
       "    <tr style=\"text-align: right;\">\n",
       "      <th></th>\n",
       "      <th>id</th>\n",
       "      <th>question</th>\n",
       "      <th>choice_0</th>\n",
       "      <th>choice_1</th>\n",
       "      <th>choice_2</th>\n",
       "      <th>choice_3</th>\n",
       "      <th>choice_4</th>\n",
       "      <th>label</th>\n",
       "      <th>human_expl_open-ended</th>\n",
       "    </tr>\n",
       "  </thead>\n",
       "  <tbody>\n",
       "    <tr>\n",
       "      <th>0</th>\n",
       "      <td>075e483d21c29a511267ef62bedc0461</td>\n",
       "      <td>The sanctions against the school were a punish...</td>\n",
       "      <td>ignore</td>\n",
       "      <td>enforce</td>\n",
       "      <td>authoritarian</td>\n",
       "      <td>yell at</td>\n",
       "      <td>avoid</td>\n",
       "      <td>0</td>\n",
       "      <td>Not sure what else could be a common ground</td>\n",
       "    </tr>\n",
       "    <tr>\n",
       "      <th>1</th>\n",
       "      <td>61fe6e879ff18686d7552425a36344c8</td>\n",
       "      <td>Sammy wanted to go to where the people were.  ...</td>\n",
       "      <td>race track</td>\n",
       "      <td>populated areas</td>\n",
       "      <td>the desert</td>\n",
       "      <td>apartment</td>\n",
       "      <td>roadblock</td>\n",
       "      <td>1</td>\n",
       "      <td>People will be in populated areas.</td>\n",
       "    </tr>\n",
       "    <tr>\n",
       "      <th>2</th>\n",
       "      <td>02e821a3e53cb320790950aab4489e85</td>\n",
       "      <td>Google Maps and other highway and street GPS s...</td>\n",
       "      <td>united states</td>\n",
       "      <td>mexico</td>\n",
       "      <td>countryside</td>\n",
       "      <td>atlas</td>\n",
       "      <td>oceans</td>\n",
       "      <td>3</td>\n",
       "      <td>atlases were collections of highway and street...</td>\n",
       "    </tr>\n",
       "    <tr>\n",
       "      <th>3</th>\n",
       "      <td>23505889b94e880c3e89cff4ba119860</td>\n",
       "      <td>The fox walked from the city into the forest, ...</td>\n",
       "      <td>pretty flowers.</td>\n",
       "      <td>hen house</td>\n",
       "      <td>natural habitat</td>\n",
       "      <td>storybook</td>\n",
       "      <td>dense forest</td>\n",
       "      <td>2</td>\n",
       "      <td>Usually the habitat of a fox is forest and it ...</td>\n",
       "    </tr>\n",
       "    <tr>\n",
       "      <th>4</th>\n",
       "      <td>e8a8b3a2061aa0e6d7c6b522e9612824</td>\n",
       "      <td>What home entertainment equipment requires cable?</td>\n",
       "      <td>radio shack</td>\n",
       "      <td>substation</td>\n",
       "      <td>cabinet</td>\n",
       "      <td>television</td>\n",
       "      <td>desk</td>\n",
       "      <td>3</td>\n",
       "      <td>television is the only option that is a home e...</td>\n",
       "    </tr>\n",
       "    <tr>\n",
       "      <th>...</th>\n",
       "      <td>...</td>\n",
       "      <td>...</td>\n",
       "      <td>...</td>\n",
       "      <td>...</td>\n",
       "      <td>...</td>\n",
       "      <td>...</td>\n",
       "      <td>...</td>\n",
       "      <td>...</td>\n",
       "      <td>...</td>\n",
       "    </tr>\n",
       "    <tr>\n",
       "      <th>7186</th>\n",
       "      <td>28ab300ef821e57e19be3f757842dd62</td>\n",
       "      <td>Where might I find seating while waiting to ta...</td>\n",
       "      <td>rest area</td>\n",
       "      <td>bus depot</td>\n",
       "      <td>theatre</td>\n",
       "      <td>bus stop</td>\n",
       "      <td>church</td>\n",
       "      <td>1</td>\n",
       "      <td>I FIND SEATING TO WAIT IN BUS DEPOT FOR PUBLIC...</td>\n",
       "    </tr>\n",
       "    <tr>\n",
       "      <th>7187</th>\n",
       "      <td>f1eb6055fa8a1ec94fa6d710d9a6741b</td>\n",
       "      <td>Something that you need to have inside of you ...</td>\n",
       "      <td>workers</td>\n",
       "      <td>money</td>\n",
       "      <td>determination</td>\n",
       "      <td>funding</td>\n",
       "      <td>creativity</td>\n",
       "      <td>2</td>\n",
       "      <td>opening a business is tough so you need to hav...</td>\n",
       "    </tr>\n",
       "    <tr>\n",
       "      <th>7188</th>\n",
       "      <td>f1b2a30a1facff543e055231c5f90dd0</td>\n",
       "      <td>What would someone need to do if he or she wan...</td>\n",
       "      <td>consequences</td>\n",
       "      <td>being ridiculed</td>\n",
       "      <td>more money</td>\n",
       "      <td>more funding</td>\n",
       "      <td>telling all</td>\n",
       "      <td>4</td>\n",
       "      <td>To go public is to be revealing information an...</td>\n",
       "    </tr>\n",
       "    <tr>\n",
       "      <th>7189</th>\n",
       "      <td>22d0eea15e10be56024fd00bb0e4f72f</td>\n",
       "      <td>Where would you buy jeans in a place with a la...</td>\n",
       "      <td>shopping mall</td>\n",
       "      <td>laundromat</td>\n",
       "      <td>hospital</td>\n",
       "      <td>clothing store</td>\n",
       "      <td>thrift store</td>\n",
       "      <td>0</td>\n",
       "      <td>When submitting your products to Merchant Cent...</td>\n",
       "    </tr>\n",
       "    <tr>\n",
       "      <th>7190</th>\n",
       "      <td>dd640927f9920930501fb8dc3efc196b</td>\n",
       "      <td>I forgot to pay the electricity bill, now what...</td>\n",
       "      <td>put in to the water</td>\n",
       "      <td>cause fire</td>\n",
       "      <td>produce heat</td>\n",
       "      <td>short fuse</td>\n",
       "      <td>shock</td>\n",
       "      <td>2</td>\n",
       "      <td>produce heat the electricity bill,now what can...</td>\n",
       "    </tr>\n",
       "  </tbody>\n",
       "</table>\n",
       "<p>7191 rows × 9 columns</p>\n",
       "</div>"
      ],
      "text/plain": [
       "                                    id  \\\n",
       "0     075e483d21c29a511267ef62bedc0461   \n",
       "1     61fe6e879ff18686d7552425a36344c8   \n",
       "2     02e821a3e53cb320790950aab4489e85   \n",
       "3     23505889b94e880c3e89cff4ba119860   \n",
       "4     e8a8b3a2061aa0e6d7c6b522e9612824   \n",
       "...                                ...   \n",
       "7186  28ab300ef821e57e19be3f757842dd62   \n",
       "7187  f1eb6055fa8a1ec94fa6d710d9a6741b   \n",
       "7188  f1b2a30a1facff543e055231c5f90dd0   \n",
       "7189  22d0eea15e10be56024fd00bb0e4f72f   \n",
       "7190  dd640927f9920930501fb8dc3efc196b   \n",
       "\n",
       "                                               question             choice_0  \\\n",
       "0     The sanctions against the school were a punish...               ignore   \n",
       "1     Sammy wanted to go to where the people were.  ...           race track   \n",
       "2     Google Maps and other highway and street GPS s...        united states   \n",
       "3     The fox walked from the city into the forest, ...      pretty flowers.   \n",
       "4     What home entertainment equipment requires cable?          radio shack   \n",
       "...                                                 ...                  ...   \n",
       "7186  Where might I find seating while waiting to ta...            rest area   \n",
       "7187  Something that you need to have inside of you ...              workers   \n",
       "7188  What would someone need to do if he or she wan...         consequences   \n",
       "7189  Where would you buy jeans in a place with a la...        shopping mall   \n",
       "7190  I forgot to pay the electricity bill, now what...  put in to the water   \n",
       "\n",
       "             choice_1         choice_2        choice_3      choice_4  label  \\\n",
       "0             enforce    authoritarian         yell at         avoid      0   \n",
       "1     populated areas       the desert       apartment     roadblock      1   \n",
       "2              mexico      countryside           atlas        oceans      3   \n",
       "3           hen house  natural habitat       storybook  dense forest      2   \n",
       "4          substation          cabinet      television          desk      3   \n",
       "...               ...              ...             ...           ...    ...   \n",
       "7186        bus depot          theatre        bus stop        church      1   \n",
       "7187            money    determination         funding    creativity      2   \n",
       "7188  being ridiculed       more money    more funding   telling all      4   \n",
       "7189       laundromat         hospital  clothing store  thrift store      0   \n",
       "7190       cause fire     produce heat      short fuse         shock      2   \n",
       "\n",
       "                                  human_expl_open-ended  \n",
       "0           Not sure what else could be a common ground  \n",
       "1                    People will be in populated areas.  \n",
       "2     atlases were collections of highway and street...  \n",
       "3     Usually the habitat of a fox is forest and it ...  \n",
       "4     television is the only option that is a home e...  \n",
       "...                                                 ...  \n",
       "7186  I FIND SEATING TO WAIT IN BUS DEPOT FOR PUBLIC...  \n",
       "7187  opening a business is tough so you need to hav...  \n",
       "7188  To go public is to be revealing information an...  \n",
       "7189  When submitting your products to Merchant Cent...  \n",
       "7190  produce heat the electricity bill,now what can...  \n",
       "\n",
       "[7191 rows x 9 columns]"
      ]
     },
     "execution_count": 8,
     "metadata": {},
     "output_type": "execute_result"
    }
   ],
   "source": [
    "df_cose = pd.read_csv(\"./data/cos-e/parsed-cose-train.csv\")\n",
    "df_cose"
   ]
  },
  {
   "attachments": {},
   "cell_type": "markdown",
   "metadata": {},
   "source": [
    "## Get Explanations"
   ]
  },
  {
   "attachments": {},
   "cell_type": "markdown",
   "metadata": {},
   "source": [
    "### GPT explanation"
   ]
  },
  {
   "cell_type": "code",
   "execution_count": 16,
   "metadata": {},
   "outputs": [],
   "source": [
    "# imports\n",
    "import os\n",
    "import ast  # for converting embeddings saved as strings back to arrays\n",
    "import openai  \n",
    "import pandas as pd\n",
    "import tiktoken  # for counting tokens\n",
    "from scipy import spatial  # for calculating vector similarities for search\n",
    "openai.api_key = os.environ[\"OPENAI_API_KEY\"]\n",
    "\n",
    "# models\n",
    "EMBEDDING_MODEL = \"text-embedding-ada-002\"\n",
    "# GPT_MODEL = \"gpt-3.5-turbo\"\n",
    "GPT_MODEL = \"gpt-4\" # According to OpenAI, GPT-4 is more responsive to system messages, whereas 3.5 would rely on more of the user input.\n"
   ]
  },
  {
   "cell_type": "code",
   "execution_count": 17,
   "metadata": {},
   "outputs": [],
   "source": [
    "# an example nle question\n",
    "premise = \"Which of the following should you not bring a fox in\"\n",
    "choices = ['hen house', 'England', 'elementary school']\n",
    "query = f\"\"\"Question: {premise}:\n",
    "Choices: {\"  \".join([f\"{i+1}.{choices[i]}\" for i in range(len(choices))])}\"\"\"\n",
    "\n",
    "sys_msg = \"\"\"\n",
    "Make a selection and explain your reasoning.\n",
    "Reply in the following format: the first line is contains only the choice number,\n",
    "and the second line is the explanation.\n",
    "\"\"\"\n",
    "\n",
    "response = openai.ChatCompletion.create(\n",
    "    messages=[\n",
    "        {'role': 'system', 'content': sys_msg},\n",
    "        {'role': 'user', 'content': query},\n",
    "    ],\n",
    "    model=GPT_MODEL,\n",
    "    temperature=0,\n",
    ")\n",
    "\n",
    "model_response = response['choices'][0]['message']['content']"
   ]
  },
  {
   "cell_type": "code",
   "execution_count": 18,
   "metadata": {},
   "outputs": [
    {
     "data": {
      "text/plain": [
       "(1,\n",
       " 'Bringing a fox into a hen house would be disastrous, as foxes are natural predators of chickens and would likely cause harm or death to the hens.')"
      ]
     },
     "execution_count": 18,
     "metadata": {},
     "output_type": "execute_result"
    }
   ],
   "source": [
    "y_pred, model_nle = model_response.split('\\n')\n",
    "y_pred = int(y_pred)\n",
    "y_pred, model_nle "
   ]
  },
  {
   "attachments": {},
   "cell_type": "markdown",
   "metadata": {},
   "source": [
    "## Obtain NLE Embeddings"
   ]
  },
  {
   "cell_type": "code",
   "execution_count": null,
   "metadata": {},
   "outputs": [],
   "source": [
    "import torch\n",
    "roberta = torch.hub.load('pytorch/fairseq', 'roberta.large', verbose=0)\n",
    "roberta.eval()  # disable dropout (or leave in train mode to finetune)\n",
    "roberta.to('cuda')"
   ]
  },
  {
   "cell_type": "code",
   "execution_count": 18,
   "metadata": {},
   "outputs": [
    {
     "data": {
      "text/plain": [
       "['question',\n",
       " 'choice_0',\n",
       " 'choice_1',\n",
       " 'choice_2',\n",
       " 'choice_3',\n",
       " 'choice_4',\n",
       " 'human_expl_open-ended']"
      ]
     },
     "execution_count": 18,
     "metadata": {},
     "output_type": "execute_result"
    }
   ],
   "source": [
    "to_tok = list(df_cose.columns)\n",
    "for x in ['id', 'label']:\n",
    "    to_tok.remove(x)\n",
    "tok_df_cose = df_cose.copy()\n",
    "tok_df_cose[to_tok] = tok_df_cose[to_tok].apply(lambda x: [roberta.encode(str(s)) for s in x])\n",
    "tok_df_cose"
   ]
  },
  {
   "cell_type": "code",
   "execution_count": null,
   "metadata": {},
   "outputs": [],
   "source": [
    "\n",
    "tok_model_nle = roberta.encode(model_nle)\n",
    "tok_choices = [roberta.encode(ch) for ch in choices]\n",
    "\n",
    "# embed the tokens using the last layer feature of the model\n",
    "emb_model_nle = roberta.extract_features(tok_model_nle)\n",
    "tok_choices = [roberta.extract_features(ch) for ch in tok_choices]\n"
   ]
  },
  {
   "attachments": {},
   "cell_type": "markdown",
   "metadata": {},
   "source": [
    "## Calculate SHAP Score"
   ]
  },
  {
   "cell_type": "code",
   "execution_count": null,
   "metadata": {},
   "outputs": [],
   "source": [
    "import shap\n",
    "X100 = shap.utils.sample(X, 100)\n",
    "shap.partial_dependence_plot(\n",
    "    your_feature_name, your_function_to_get_y_pred, X100, ice=False,\n",
    "    model_expected_value=True, feature_expected_value=True\n",
    ")"
   ]
  },
  {
   "cell_type": "code",
   "execution_count": null,
   "metadata": {},
   "outputs": [],
   "source": [
    "explainer = shap.Explainer(your_function_to_get_y_pred, X100)\n",
    "shap_values = explainer(X)"
   ]
  }
 ],
 "metadata": {
  "kernelspec": {
   "display_name": "nle",
   "language": "python",
   "name": "python3"
  },
  "language_info": {
   "codemirror_mode": {
    "name": "ipython",
    "version": 3
   },
   "file_extension": ".py",
   "mimetype": "text/x-python",
   "name": "python",
   "nbconvert_exporter": "python",
   "pygments_lexer": "ipython3",
   "version": "3.9.16"
  },
  "orig_nbformat": 4
 },
 "nbformat": 4,
 "nbformat_minor": 2
}
