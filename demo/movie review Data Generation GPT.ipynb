{
 "cells": [
  {
   "attachments": {},
   "cell_type": "markdown",
   "metadata": {},
   "source": [
    "## Import Dependencies"
   ]
  },
  {
   "cell_type": "code",
   "execution_count": 29,
   "metadata": {},
   "outputs": [],
   "source": [
    "import pandas as pd\n",
    "import numpy as np"
   ]
  },
  {
   "attachments": {},
   "cell_type": "markdown",
   "metadata": {},
   "source": [
    "## Load Dataset"
   ]
  },
  {
   "attachments": {},
   "cell_type": "markdown",
   "metadata": {},
   "source": [
    "Movie Review"
   ]
  },
  {
   "cell_type": "code",
   "execution_count": 30,
   "metadata": {},
   "outputs": [],
   "source": [
    "import os\n",
    "from eraserbenchmark.rationale_benchmark.utils import load_documents, load_datasets, annotations_from_jsonl, Annotation\n",
    "\n",
    "data_root = os.path.join('eraserbenchmark/data', 'movies')\n",
    "documents = load_documents(data_root)\n",
    "train, val, test = load_datasets(data_root)"
   ]
  },
  {
   "cell_type": "code",
   "execution_count": 31,
   "metadata": {},
   "outputs": [
    {
     "data": {
      "text/plain": [
       "{'annotation_id': 'negR_005.txt',\n",
       " 'query': 'What is the sentiment of this review?',\n",
       " 'evidences': frozenset({(Evidence(text='also unimpressive', docid='negR_005.txt', start_token=631, end_token=633, start_sentence=30, end_sentence=31),),\n",
       "            (Evidence(text='it is a very bad mistake to make', docid='negR_005.txt', start_token=107, end_token=115, start_sentence=6, end_sentence=7),),\n",
       "            (Evidence(text='sadly what follows is not really up to the buildup', docid='negR_005.txt', start_token=549, end_token=559, start_sentence=26, end_sentence=27),),\n",
       "            (Evidence(text='tacky looking rundown martian mining colony', docid='negR_005.txt', start_token=405, end_token=411, start_sentence=19, end_sentence=20),),\n",
       "            (Evidence(text='that still does not make for a really good science fiction experience', docid='negR_005.txt', start_token=218, end_token=230, start_sentence=11, end_sentence=12),),\n",
       "            (Evidence(text='these are standard haunted house film shock effects', docid='negR_005.txt', start_token=610, end_token=618, start_sentence=29, end_sentence=30),)}),\n",
       " 'classification': 'NEG',\n",
       " 'query_type': None,\n",
       " 'docids': None}"
      ]
     },
     "execution_count": 31,
     "metadata": {},
     "output_type": "execute_result"
    }
   ],
   "source": [
    "data_raw = train[5]\n",
    "data_raw.__dict__"
   ]
  },
  {
   "cell_type": "code",
   "execution_count": 32,
   "metadata": {},
   "outputs": [
    {
     "data": {
      "text/plain": [
       "negative    800\n",
       "positive    800\n",
       "Name: label, dtype: int64"
      ]
     },
     "execution_count": 32,
     "metadata": {},
     "output_type": "execute_result"
    }
   ],
   "source": [
    "import string\n",
    "def obtain_text_review(data_raw, documents, token_length=256):\n",
    "    word_list = [word for sent in documents[data_raw.annotation_id][:token_length] for word in sent+[\"\\n\"]][:token_length]\n",
    "    word_list_refined = [\" \"+word if word not in string.punctuation else word for word in word_list ]\n",
    "    paragraph = \"\".join(word_list_refined)[1:]\n",
    "    return paragraph\n",
    "\n",
    "from collections import Counter\n",
    "data_split = train\n",
    "token_length = 1000\n",
    "label_types = {'POS':'positive', 'NEG':'negative'}\n",
    "\n",
    "df = pd.DataFrame(columns=['review', 'label'])\n",
    "for data_raw in data_split:\n",
    "    review = obtain_text_review(data_raw, documents, token_length)\n",
    "    label = data_raw.classification\n",
    "    df.loc[len(df)] = [review, label_types[label]]\n",
    "\n",
    "counts = df['label'].value_counts()\n",
    "counts"
   ]
  },
  {
   "attachments": {},
   "cell_type": "markdown",
   "metadata": {},
   "source": [
    "## Get Explanations and SHAP score"
   ]
  },
  {
   "attachments": {},
   "cell_type": "markdown",
   "metadata": {},
   "source": [
    "### GPT explanation"
   ]
  },
  {
   "cell_type": "code",
   "execution_count": 33,
   "metadata": {},
   "outputs": [],
   "source": [
    "# imports\n",
    "import os\n",
    "import ast  # for converting embeddings saved as strings back to arrays\n",
    "import openai  \n",
    "import pandas as pd\n",
    "import tiktoken  # for counting tokens\n",
    "from tqdm.auto import tqdm\n",
    "from scipy import spatial  # for calculating vector similarities for search\n",
    "openai.api_key = os.environ[\"OPENAI_API_KEY\"]\n",
    "\n",
    "# models\n",
    "EMBEDDING_MODEL = \"text-embedding-ada-002\"\n",
    "# GPT_MODEL = \"gpt-3.5-turbo-16k-0613\"\n",
    "GPT_MODEL = \"gpt-4-0613\" # According to OpenAI, GPT-4 is more responsive to system messages, whereas 3.5 would rely on more of the user input.\n"
   ]
  },
  {
   "cell_type": "code",
   "execution_count": 34,
   "metadata": {},
   "outputs": [
    {
     "data": {
      "application/vnd.jupyter.widget-view+json": {
       "model_id": "f7fa26bdf7c44f4292664a64f85f6c57",
       "version_major": 2,
       "version_minor": 0
      },
      "text/plain": [
       "  0%|          | 0/24 [00:00<?, ?it/s]"
      ]
     },
     "metadata": {},
     "output_type": "display_data"
    }
   ],
   "source": [
    "def summarize(input_premise, is_query=False, n_reviews=None):\n",
    "    if is_query:\n",
    "        query = input_premise\n",
    "        n_reviews = n_reviews\n",
    "    else:\n",
    "        query = []\n",
    "        for x in input_premise:\n",
    "            query.append(f\">>>Review starts\\n{x}\\n>>>Review ends\\n\")\n",
    "        query = \"\\n\".join(query)\n",
    "        n_reviews = len(input_premise)\n",
    "    # Please shorten each of the following movie reivews in between 48-96 words in the tone of the reviewer while trying to preserve its meanings.\n",
    "\n",
    "    sys_msg = f\"\"\"\n",
    "    Please extract the opinions and rewrite the following movie reviews pretending you are the original reviewer, each in about 32 words. \n",
    "    Note: Treat each review independently. The start and end of an review is marked by \">>>Review starts\" and \">>>Review ends\".\n",
    "\n",
    "    Reply in the following format: \n",
    "    The response to each review contains 1 line, which is the shortened version of the review.\n",
    "    If there are more than 2 reviews, the replies should be are serparated by a new line of \"---\".\n",
    "    \n",
    "    If you feel impossible to summary, please put \"I can't summary this review\" at the corresponding line.\n",
    "    The followings are examples of valid replies:\n",
    "    \n",
    "    your summary 1\n",
    "    ---\n",
    "    I can't summary this review\n",
    "    ---\n",
    "    your summary 3\n",
    "    \"\"\"\n",
    "\n",
    "    response = openai.ChatCompletion.create(\n",
    "            messages=[\n",
    "                {'role': 'system', 'content': sys_msg},\n",
    "                {'role': 'user', 'content': query},\n",
    "            ],\n",
    "            model=GPT_MODEL,\n",
    "            temperature=0,\n",
    "        )\n",
    "\n",
    "    model_response = response['choices'][0]['message']['content']\n",
    "    reply_counts = model_response.count(\"\\n---\")\n",
    "    try:\n",
    "        assert reply_counts+1 == n_reviews\n",
    "    except AssertionError:\n",
    "        print(\">>>>>>>>>>>>AssertionError:\")\n",
    "        print(f\"number of replies {reply_counts+1} does not match number of reviews {n_reviews}\")\n",
    "        print(query)\n",
    "        print(model_response)\n",
    "        raise AssertionError\n",
    "    summarized_reviews = model_response.split(\"\\n---\\n\")\n",
    "    return summarized_reviews\n",
    "\n",
    "summaries_list = []\n",
    "batch_size = 5\n",
    "sample_size = 120\n",
    "\n",
    "\n",
    "\n",
    "new_df = df.sample(120).copy().reset_index(drop=True)\n",
    "for i in tqdm(range(0, sample_size, batch_size)):\n",
    "    summaries_list.extend(summarize(df.review[i:i+batch_size]))\n",
    "new_df['review'] = summaries_list\n",
    "new_df.to_csv(f'movies_{sample_size}.csv', index=False)"
   ]
  },
  {
   "cell_type": "code",
   "execution_count": null,
   "metadata": {},
   "outputs": [
    {
     "data": {
      "text/plain": [
       "array(['\"Love to Kill\" is a crime film that attempts to blend humor and levity into the genre but ends up being a convoluted mess. The only redeeming aspect is the relationship between Tony Danza\\'s character and the sister of a deceased woman. Danza\\'s performance is impressive, but the film overall fails to deliver.',\n",
       "       '\"Species II\" is a sequel that fails to improve upon its predecessor. Despite its potentially intriguing premise, the film is riddled with plot holes, ridiculous dialogue, and unconvincing special effects. The performances are lackluster, and the plot is often nonsensical.',\n",
       "       '\"Get Carter\" is a disappointing action film, with Sylvester Stallone failing to recapture his 80\\'s action hero glory. Despite strong performances from Mickey Rourke and Michael Caine, the film is let down by a weak script and poor casting.',\n",
       "       '\"Hard to Die\" is a predictable, low-budget horror flick with a ridiculous storyline and poor acting. The special effects are unrealistic and the script is pathetic. The film is unintentionally hilarious at times, but it\\'s not worth the rental fee.',\n",
       "       '\"A Stranger Among Us\" is a rip-off of Peter Weir\\'s \"Witness\" with terrible miscasting of Melanie Griffith. The crime mystery subplot is uninspiring and the film is saved only by the convincing performances of the supporting cast and the effective photography. It\\'s a film that barely avoids being a total waste of time.',\n",
       "       '\"American Pimp\" is a documentary about African-American street pimps that offers no fresh insights or surprises. The film becomes grating as the pimps continuously brag about their lifestyle. It fails to delve into the women\\'s perspective or the core of the pimps\\' mindset, making it a one-sided and unsatisfying watch.',\n",
       "       '\"Love to Kill\" is a crime film that attempts to blend humor and levity into the genre but ends up being a convoluted mess. The only redeeming aspect is the relationship between Tony Danza\\'s character and the sister of a deceased woman. Danza\\'s performance is impressive, but the film overall fails to deliver.',\n",
       "       '\"The Big Green\" is a formulaic kids\\' soccer film that lacks originality. The comedy is mostly fast-motion gags and belching bits. The film\\'s music is overly dramatic and doesn\\'t complement the comedy, making it feel out of place.',\n",
       "       '\"The Musketeer\" is a poorly executed film with a boring, unoriginal story and subpar acting. Despite a couple of cool fight sequences, the movie is filled with plot problems, banal dialogue, and an annoyingly loud score.',\n",
       "       '\"Wild Things\" is a confused mess of a film with countless twists and turns that become tedious. Despite efforts from Kevin Bacon and Matt Dillon, the film fails to deliver on its promise of eroticism and unpredictability. It\\'s a film that prioritizes plot over character, making it an uninteresting watch.'],\n",
       "      dtype='<U449')"
      ]
     },
     "execution_count": 7,
     "metadata": {},
     "output_type": "execute_result"
    }
   ],
   "source": [
    "np.random.choice(summaries_list, 10)"
   ]
  },
  {
   "cell_type": "code",
   "execution_count": null,
   "metadata": {},
   "outputs": [
    {
     "data": {
      "image/png": "[encoded data removed]",
      "text/plain": [
       "<Figure size 640x480 with 1 Axes>"
      ]
     },
     "metadata": {},
     "output_type": "display_data"
    }
   ],
   "source": [
    "wc = [len(x.split(' ')) for x in summaries_list]\n",
    "import matplotlib.pyplot as plt\n",
    "plt.hist(wc, bins=20)\n",
    "plt.show()"
   ]
  },
  {
   "cell_type": "code",
   "execution_count": null,
   "metadata": {},
   "outputs": [],
   "source": [
    "# an example nle question\n",
    "choices = ['positive', 'negative']\n",
    "\n",
    "def prediction_function(input_premise, is_query=False, n_reviews=None):\n",
    "    if is_query:\n",
    "        query = input_premise\n",
    "        n_reviews = n_reviews\n",
    "    else:\n",
    "        query = []\n",
    "        for i, x in enumerate(input_premise):\n",
    "            query.append(f\">>>Review {i} starts\\n{x}\\n>>>Review {i} ends\\n\")\n",
    "        query = \"\".join(query)\n",
    "        n_reviews = len(input_premise)\n",
    "    # print(query)\n",
    "    sys_msg = f\"\"\"\n",
    "    What is the sentiment of the following reviews?\n",
    "    For each review, provide the probabilities of each choices from {choices} and explain your reasoning.\n",
    "    Note: Treat each review independently. The start and end of an review is marked by \">>>Review i starts\" and \">>>Review i ends\" where i is the number. The notion \"[MASK]\" means a missing word.\n",
    "\n",
    "    Reply in the following format: \n",
    "    The reply to each review contains 3 lines.\n",
    "    The first line contains the probabilities of each choice seperated by a space,\n",
    "    and the second line is the explanation, which should not contain any special character.\n",
    "    The third line is a seperator \"---\" marking the end of the reply.\n",
    "    There should be no new line between consecutive replies.\n",
    "    \n",
    "    If you cannot decide, please still guess a probability for each choice and explain why you cannot decide.\n",
    "    The followings are examples of a valid response that contains 4 replies, followed by 4 lines of \"---\":\n",
    "    0.15 0.85\n",
    "    your explanation\n",
    "    ---\n",
    "    0.5 0.5\n",
    "    your explanation\n",
    "    ---\n",
    "    0.68 0.32\n",
    "    your explanation\n",
    "    ---\n",
    "    0.71 0.29\n",
    "    your explanation\n",
    "    ---\n",
    "    \"\"\"\n",
    "\n",
    "    response = openai.ChatCompletion.create(\n",
    "        messages=[\n",
    "            {'role': 'system', 'content': sys_msg},\n",
    "            {'role': 'user', 'content': query},\n",
    "        ],\n",
    "        model=GPT_MODEL,\n",
    "        temperature=0,\n",
    "    )\n",
    "\n",
    "    model_response = response['choices'][0]['message']['content']\n",
    "    reply_counts = model_response.count(\"\\n---\")\n",
    "    try:\n",
    "        assert reply_counts == n_reviews\n",
    "    except AssertionError:\n",
    "        print(\">>>>>>>>>>>>AssertionError:\")\n",
    "        print(f\"number of replies {reply_counts} does not match number of reviews {n_reviews}\")\n",
    "        print(query)\n",
    "        print(model_response)\n",
    "        raise AssertionError\n",
    "\n",
    "    y_prob_list, model_nle_list = [], []\n",
    "    model_response += '\\n'\n",
    "    for line in model_response.split(\"\\n---\\n\")[:-1]:\n",
    "        try:\n",
    "            y_prob, model_nle = line.split('\\n')\n",
    "            y_prob = [float(p) for p in y_prob.split(' ')]\n",
    "            y_prob_list.append(y_prob)\n",
    "            model_nle_list.append(model_nle)\n",
    "        except:\n",
    "            print(\">>>>>>>>>>>>Exception: model reply in wrong format for one reply\")\n",
    "            print(query)\n",
    "            print(model_response)\n",
    "            # y_prob_list.append([0.5, 0.5])\n",
    "            # model_nle_list.append(\"Unknown\")\n",
    "            raise AssertionError\n",
    "    return y_prob_list, model_nle_list\n",
    "\n",
    "# SHAP_function(\"I love this movie, but I don't like the ending. Still it is a good movie.\")\n",
    "# SHAP_function(\"I ? this movie, but I don't ? the ending. Still it is a ? movie.\")\n",
    "# SHAP_function(df.review[5])\n",
    "import scipy as sp\n",
    "import time\n",
    "import requests\n",
    "\n",
    "current_request_count = 0\n",
    "current_token_count = 0\n",
    "def f(x, batch_size=10):\n",
    "    outputs = []\n",
    "    for i in range(0,len(x),batch_size):\n",
    "        _x = x[i:i+batch_size]\n",
    "        success = False\n",
    "        n_trials = 5\n",
    "        while n_trials > 0:\n",
    "            try:\n",
    "                if time.time() - globals()['current_time'] < 10 and globals()['current_request_count'] > 32:\n",
    "                    print('request hits limit')\n",
    "                    time.sleep(5)\n",
    "                    globals()['current_time'] = time.time()\n",
    "                    globals()['current_request_count'] = 0\n",
    "                y_prob_list, _ = prediction_function(_x)\n",
    "                time.sleep(5)\n",
    "                globals()['current_request_count'] += 1\n",
    "                success = True\n",
    "                break\n",
    "            except AssertionError:\n",
    "                print(\"retrying\")\n",
    "                n_trials -= 1\n",
    "                continue\n",
    "            except TimeoutError or requests.exceptions.Timeout or requests.exceptions.readTimeout or socket.timeout:\n",
    "                print(\"time out and sleep\")\n",
    "                time.sleep(60)\n",
    "                continue\n",
    "        if success == False:\n",
    "            raise AssertionError(\"model reply in wrong format\")\n",
    "        outputs.extend(y_prob_list)\n",
    "    outputs = np.array(outputs)\n",
    "    scores = (np.exp(outputs).T / np.exp(outputs).sum(-1)).T\n",
    "    val = sp.special.logit(scores)\n",
    "    return val\n",
    "\n",
    "\n",
    "import tiktoken\n",
    "import shap\n",
    "from functools import partial\n",
    "from tqdm.auto import tqdm\n",
    "\n",
    "class tokenizer:\n",
    "    def __init__(self) -> None:\n",
    "        self.tokenizer = tiktoken.encoding_for_model(GPT_MODEL)\n",
    "    def __call__(self, x):\n",
    "        return {\"input_ids\":self.tokenizer.encode(x)}\n",
    "    def decode(self, x):\n",
    "        return self.tokenizer.decode(x)\n",
    "\n",
    "tok = tokenizer()\n",
    "shap_tok = shap.maskers.Text(tok, mask_token='[MASK]', collapse_mask_token=False)\n",
    "\n",
    "sample_df = pd.read_csv('movies_120.csv')\n",
    "sample_df['shap_values'] = [np.zeros(1).astype('object')]*len(sample_df)\n",
    "sample_df['shap_base_values'] = [np.zeros(1).astype('object')]*len(sample_df)\n",
    "sample_df['shap_base_values'].astype('object')\n",
    "sample_df['shap_data'] =[np.zeros(1).astype('object')]*len(sample_df)\n",
    "sample_df['y_prob'] =[np.zeros(1).astype('object')]*len(sample_df)\n",
    "sample_df['model_nle'] =[np.zeros(1).astype('object')]*len(sample_df)\n",
    "\n",
    "start_i = 47\n",
    "if start_i >= 1:\n",
    "    sample_df = pd.read_csv(f'movies_120_shap_{start_i-1}.csv')\n",
    "\n",
    "import socket\n",
    "current_time = time.time()\n",
    "for i in tqdm(range(start_i,len(sample_df))):\n",
    "    time.sleep(60)\n",
    "    current_review_summary = sample_df.review[i]\n",
    "    explainer = shap.Explainer(partial(f, batch_size=8), masker=shap_tok, output_names=choices)\n",
    "    y_prob, model_nle = prediction_function([current_review_summary])\n",
    "    # shap_values = explainer([current_review_summary], max_evals=64)\n",
    "    shap_values = explainer([current_review_summary], batch_size=8, max_evals=128)\n",
    "    sample_df.loc[i, 'shap_values'] = shap_values.values.tolist()\n",
    "    sample_df.loc[i, 'shap_base_values'] = np.array([shap_values.base_values]).tolist()\n",
    "    sample_df.loc[i, 'shap_data'] = np.array([shap_values.data]).tolist()\n",
    "    sample_df.loc[i, 'y_prob'] = np.array([y_prob]).tolist()\n",
    "    sample_df.loc[i, 'model_nle'] = np.array(model_nle).astype('object')\n",
    "    sample_df.to_csv(f'movies_120_shap_{i}.csv', index=False)\n",
    "    print(f\"finish review {i+1} \\r\") \n",
    "\n",
    "# f([\"This book is pretty interesting but it's too long\", \"This book is pretty interesting but it's too [MASK]\"])"
   ]
  },
  {
   "attachments": {},
   "cell_type": "markdown",
   "metadata": {},
   "source": [
    "## Visualize resulted SHAP data"
   ]
  },
  {
   "cell_type": "code",
   "execution_count": null,
   "metadata": {},
   "outputs": [],
   "source": [
    "import ast\n",
    "some_df = pd.read_csv('movies_120_shap_119.csv')\n",
    "def get_literal_eval(x):\n",
    "    x = np.array(ast.literal_eval(x)).astype('object')\n",
    "    return x\n",
    "\n",
    "some_df.shap_values = some_df.shap_values.apply(get_literal_eval)\n",
    "some_df.shap_base_values = some_df.shap_base_values.apply(get_literal_eval)\n",
    "some_df.shap_data = some_df.shap_data.apply(get_literal_eval)\n"
   ]
  },
  {
   "cell_type": "code",
   "execution_count": null,
   "metadata": {},
   "outputs": [],
   "source": [
    "import shap\n",
    "\n",
    "idx = 9\n",
    "shap_values = shap.Explanation(sample_df.shap_values[idx], sample_df.shap_base_values[idx], sample_df.shap_data[idx]) \n",
    "\n",
    "shap.plots.text(shap_values, grouping_threshold=0.005)"
   ]
  },
  {
   "cell_type": "code",
   "execution_count": 16,
   "metadata": {},
   "outputs": [
    {
     "data": {
      "image/png": "[encoded data removed]",
      "text/plain": [
       "<Figure size 800x650 with 1 Axes>"
      ]
     },
     "metadata": {},
     "output_type": "display_data"
    }
   ],
   "source": [
    "shap.plots.bar(shap_values[0,:,'negative'], clustering_cutoff=0.5)"
   ]
  }
 ],
 "metadata": {
  "kernelspec": {
   "display_name": "nle",
   "language": "python",
   "name": "python3"
  },
  "language_info": {
   "codemirror_mode": {
    "name": "ipython",
    "version": 3
   },
   "file_extension": ".py",
   "mimetype": "text/x-python",
   "name": "python",
   "nbconvert_exporter": "python",
   "pygments_lexer": "ipython3",
   "version": "3.9.16"
  },
  "orig_nbformat": 4
 },
 "nbformat": 4,
 "nbformat_minor": 2
}
